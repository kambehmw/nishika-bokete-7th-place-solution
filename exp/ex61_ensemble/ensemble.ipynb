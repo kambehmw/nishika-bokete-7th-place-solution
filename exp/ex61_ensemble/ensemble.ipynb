{
 "cells": [
  {
   "cell_type": "code",
   "execution_count": 1,
   "metadata": {
    "executionInfo": {
     "elapsed": 1038,
     "status": "ok",
     "timestamp": 1664726479749,
     "user": {
      "displayName": "神戸宏之",
      "userId": "10152462779613471234"
     },
     "user_tz": -540
    },
    "id": "o8QW9rL2K1Rm"
   },
   "outputs": [],
   "source": [
    "import numpy as np\n",
    "import pandas as pd\n",
    "from sklearn.metrics import log_loss\n",
    "from scipy.special import softmax"
   ]
  },
  {
   "cell_type": "code",
   "execution_count": 4,
   "metadata": {},
   "outputs": [
    {
     "data": {
      "text/html": [
       "<div>\n",
       "<style scoped>\n",
       "    .dataframe tbody tr th:only-of-type {\n",
       "        vertical-align: middle;\n",
       "    }\n",
       "\n",
       "    .dataframe tbody tr th {\n",
       "        vertical-align: top;\n",
       "    }\n",
       "\n",
       "    .dataframe thead th {\n",
       "        text-align: right;\n",
       "    }\n",
       "</style>\n",
       "<table border=\"1\" class=\"dataframe\">\n",
       "  <thead>\n",
       "    <tr style=\"text-align: right;\">\n",
       "      <th></th>\n",
       "      <th>id</th>\n",
       "      <th>odai_photo_file_name</th>\n",
       "      <th>text</th>\n",
       "      <th>is_laugh</th>\n",
       "      <th>img_path</th>\n",
       "      <th>fold</th>\n",
       "      <th>pred_0</th>\n",
       "      <th>pred_1</th>\n",
       "    </tr>\n",
       "  </thead>\n",
       "  <tbody>\n",
       "    <tr>\n",
       "      <th>0</th>\n",
       "      <td>005fsegda</td>\n",
       "      <td>gfwqgf5nr3.jpg</td>\n",
       "      <td>結婚式の馴れ初めムービーが太陽系の形成から始まった</td>\n",
       "      <td>1</td>\n",
       "      <td>../bokete/train/gfwqgf5nr3.jpg</td>\n",
       "      <td>5</td>\n",
       "      <td>0.457073</td>\n",
       "      <td>0.542927</td>\n",
       "    </tr>\n",
       "    <tr>\n",
       "      <th>1</th>\n",
       "      <td>00bxdcozk</td>\n",
       "      <td>xjdx5fqpmv.jpg</td>\n",
       "      <td>ホームレスだったが『なかなかの雰囲気をかもし出してる』という理由で料理長になれた。</td>\n",
       "      <td>0</td>\n",
       "      <td>../bokete/train/xjdx5fqpmv.jpg</td>\n",
       "      <td>3</td>\n",
       "      <td>0.299905</td>\n",
       "      <td>0.700095</td>\n",
       "    </tr>\n",
       "    <tr>\n",
       "      <th>2</th>\n",
       "      <td>00mpolpif</td>\n",
       "      <td>f09vzizm3w.jpg</td>\n",
       "      <td>見慣れない旅人が、たくさんの壺を割りながら近づいてくる</td>\n",
       "      <td>1</td>\n",
       "      <td>../bokete/train/f09vzizm3w.jpg</td>\n",
       "      <td>0</td>\n",
       "      <td>0.239375</td>\n",
       "      <td>0.760625</td>\n",
       "    </tr>\n",
       "    <tr>\n",
       "      <th>3</th>\n",
       "      <td>00xnsh2c6</td>\n",
       "      <td>5eutjv8q0f.jpg</td>\n",
       "      <td>「押すなよ、ほんっとうに押すなよ！押すなって！押すなああぁぁぁ………」</td>\n",
       "      <td>0</td>\n",
       "      <td>../bokete/train/5eutjv8q0f.jpg</td>\n",
       "      <td>1</td>\n",
       "      <td>0.476375</td>\n",
       "      <td>0.523625</td>\n",
       "    </tr>\n",
       "    <tr>\n",
       "      <th>4</th>\n",
       "      <td>01fvui4tv</td>\n",
       "      <td>udoedxn436.jpg</td>\n",
       "      <td>あまり頭の良くない息子が唯一合格した私立地獄谷デーモン幼稚園の送迎バス。</td>\n",
       "      <td>1</td>\n",
       "      <td>../bokete/train/udoedxn436.jpg</td>\n",
       "      <td>1</td>\n",
       "      <td>0.265482</td>\n",
       "      <td>0.734518</td>\n",
       "    </tr>\n",
       "  </tbody>\n",
       "</table>\n",
       "</div>"
      ],
      "text/plain": [
       "          id odai_photo_file_name                                       text  \\\n",
       "0  005fsegda       gfwqgf5nr3.jpg                  結婚式の馴れ初めムービーが太陽系の形成から始まった   \n",
       "1  00bxdcozk       xjdx5fqpmv.jpg  ホームレスだったが『なかなかの雰囲気をかもし出してる』という理由で料理長になれた。   \n",
       "2  00mpolpif       f09vzizm3w.jpg                見慣れない旅人が、たくさんの壺を割りながら近づいてくる   \n",
       "3  00xnsh2c6       5eutjv8q0f.jpg        「押すなよ、ほんっとうに押すなよ！押すなって！押すなああぁぁぁ………」   \n",
       "4  01fvui4tv       udoedxn436.jpg       あまり頭の良くない息子が唯一合格した私立地獄谷デーモン幼稚園の送迎バス。   \n",
       "\n",
       "   is_laugh                        img_path  fold    pred_0    pred_1  \n",
       "0         1  ../bokete/train/gfwqgf5nr3.jpg     5  0.457073  0.542927  \n",
       "1         0  ../bokete/train/xjdx5fqpmv.jpg     3  0.299905  0.700095  \n",
       "2         1  ../bokete/train/f09vzizm3w.jpg     0  0.239375  0.760625  \n",
       "3         0  ../bokete/train/5eutjv8q0f.jpg     1  0.476375  0.523625  \n",
       "4         1  ../bokete/train/udoedxn436.jpg     1  0.265482  0.734518  "
      ]
     },
     "execution_count": 4,
     "metadata": {},
     "output_type": "execute_result"
    }
   ],
   "source": [
    "oof_df1 = pd.read_csv(\"../ex55_ensemble/oof_df_ensemble.csv\").sort_values(\"id\")\n",
    "oof_df1.head()"
   ]
  },
  {
   "cell_type": "code",
   "execution_count": 5,
   "metadata": {},
   "outputs": [
    {
     "data": {
      "text/html": [
       "<div>\n",
       "<style scoped>\n",
       "    .dataframe tbody tr th:only-of-type {\n",
       "        vertical-align: middle;\n",
       "    }\n",
       "\n",
       "    .dataframe tbody tr th {\n",
       "        vertical-align: top;\n",
       "    }\n",
       "\n",
       "    .dataframe thead th {\n",
       "        text-align: right;\n",
       "    }\n",
       "</style>\n",
       "<table border=\"1\" class=\"dataframe\">\n",
       "  <thead>\n",
       "    <tr style=\"text-align: right;\">\n",
       "      <th></th>\n",
       "      <th>id</th>\n",
       "      <th>odai_photo_file_name</th>\n",
       "      <th>text</th>\n",
       "      <th>is_laugh</th>\n",
       "      <th>img_path</th>\n",
       "      <th>fold</th>\n",
       "      <th>pred_0</th>\n",
       "      <th>pred_1</th>\n",
       "    </tr>\n",
       "  </thead>\n",
       "  <tbody>\n",
       "    <tr>\n",
       "      <th>0</th>\n",
       "      <td>005fsegda</td>\n",
       "      <td>gfwqgf5nr3.jpg</td>\n",
       "      <td>結婚式の馴れ初めムービーが太陽系の形成から始まった</td>\n",
       "      <td>1</td>\n",
       "      <td>../bokete/train/gfwqgf5nr3.jpg</td>\n",
       "      <td>5</td>\n",
       "      <td>0.461224</td>\n",
       "      <td>0.540308</td>\n",
       "    </tr>\n",
       "    <tr>\n",
       "      <th>1</th>\n",
       "      <td>00bxdcozk</td>\n",
       "      <td>xjdx5fqpmv.jpg</td>\n",
       "      <td>ホームレスだったが『なかなかの雰囲気をかもし出してる』という理由で料理長になれた。</td>\n",
       "      <td>0</td>\n",
       "      <td>../bokete/train/xjdx5fqpmv.jpg</td>\n",
       "      <td>3</td>\n",
       "      <td>0.263039</td>\n",
       "      <td>0.731596</td>\n",
       "    </tr>\n",
       "    <tr>\n",
       "      <th>2</th>\n",
       "      <td>00mpolpif</td>\n",
       "      <td>f09vzizm3w.jpg</td>\n",
       "      <td>見慣れない旅人が、たくさんの壺を割りながら近づいてくる</td>\n",
       "      <td>1</td>\n",
       "      <td>../bokete/train/f09vzizm3w.jpg</td>\n",
       "      <td>0</td>\n",
       "      <td>0.207511</td>\n",
       "      <td>0.790203</td>\n",
       "    </tr>\n",
       "    <tr>\n",
       "      <th>3</th>\n",
       "      <td>00xnsh2c6</td>\n",
       "      <td>5eutjv8q0f.jpg</td>\n",
       "      <td>「押すなよ、ほんっとうに押すなよ！押すなって！押すなああぁぁぁ………」</td>\n",
       "      <td>0</td>\n",
       "      <td>../bokete/train/5eutjv8q0f.jpg</td>\n",
       "      <td>1</td>\n",
       "      <td>0.468641</td>\n",
       "      <td>0.531270</td>\n",
       "    </tr>\n",
       "    <tr>\n",
       "      <th>4</th>\n",
       "      <td>01fvui4tv</td>\n",
       "      <td>udoedxn436.jpg</td>\n",
       "      <td>あまり頭の良くない息子が唯一合格した私立地獄谷デーモン幼稚園の送迎バス。</td>\n",
       "      <td>1</td>\n",
       "      <td>../bokete/train/udoedxn436.jpg</td>\n",
       "      <td>1</td>\n",
       "      <td>0.270058</td>\n",
       "      <td>0.732666</td>\n",
       "    </tr>\n",
       "  </tbody>\n",
       "</table>\n",
       "</div>"
      ],
      "text/plain": [
       "          id odai_photo_file_name                                       text  \\\n",
       "0  005fsegda       gfwqgf5nr3.jpg                  結婚式の馴れ初めムービーが太陽系の形成から始まった   \n",
       "1  00bxdcozk       xjdx5fqpmv.jpg  ホームレスだったが『なかなかの雰囲気をかもし出してる』という理由で料理長になれた。   \n",
       "2  00mpolpif       f09vzizm3w.jpg                見慣れない旅人が、たくさんの壺を割りながら近づいてくる   \n",
       "3  00xnsh2c6       5eutjv8q0f.jpg        「押すなよ、ほんっとうに押すなよ！押すなって！押すなああぁぁぁ………」   \n",
       "4  01fvui4tv       udoedxn436.jpg       あまり頭の良くない息子が唯一合格した私立地獄谷デーモン幼稚園の送迎バス。   \n",
       "\n",
       "   is_laugh                        img_path  fold    pred_0    pred_1  \n",
       "0         1  ../bokete/train/gfwqgf5nr3.jpg     5  0.461224  0.540308  \n",
       "1         0  ../bokete/train/xjdx5fqpmv.jpg     3  0.263039  0.731596  \n",
       "2         1  ../bokete/train/f09vzizm3w.jpg     0  0.207511  0.790203  \n",
       "3         0  ../bokete/train/5eutjv8q0f.jpg     1  0.468641  0.531270  \n",
       "4         1  ../bokete/train/udoedxn436.jpg     1  0.270058  0.732666  "
      ]
     },
     "execution_count": 5,
     "metadata": {},
     "output_type": "execute_result"
    }
   ],
   "source": [
    "oof_df2 = pd.read_csv(\"../ex59_ensemble/oof_df_ensemble.csv\").sort_values(\"id\")\n",
    "oof_df2.head()"
   ]
  },
  {
   "cell_type": "code",
   "execution_count": 6,
   "metadata": {},
   "outputs": [
    {
     "data": {
      "text/plain": [
       "0.6324372199183826"
      ]
     },
     "execution_count": 6,
     "metadata": {},
     "output_type": "execute_result"
    }
   ],
   "source": [
    "preds1 = oof_df1[[\"pred_0\", \"pred_1\"]].values\n",
    "preds2 = oof_df2[[\"pred_0\", \"pred_1\"]].values\n",
    "\n",
    "val_preds = (preds1 + preds2) / 2.0\n",
    "log_loss(oof_df1[\"is_laugh\"].values, val_preds)"
   ]
  },
  {
   "cell_type": "code",
   "execution_count": 7,
   "metadata": {},
   "outputs": [],
   "source": [
    "sub1 = pd.read_csv(\"../ex55_ensemble/submission.csv\")\n",
    "sub2 = pd.read_csv(\"../ex59_ensemble/submission.csv\")\n",
    "\n",
    "sub = sub1.copy()\n",
    "sub[\"is_laugh\"] = (\n",
    "    sub1[\"is_laugh\"] * 0.5\n",
    "    + sub2[\"is_laugh\"] * 0.5\n",
    "    ) / (0.5 * 2)\n",
    "sub.to_csv(\"submission_avg.csv\", index=False)"
   ]
  },
  {
   "cell_type": "code",
   "execution_count": null,
   "metadata": {
    "id": "Ltu30NrCLnoC"
   },
   "outputs": [],
   "source": []
  }
 ],
 "metadata": {
  "colab": {
   "authorship_tag": "ABX9TyNaZliB95O5bj4e08ItWPbN",
   "collapsed_sections": [],
   "provenance": []
  },
  "kernelspec": {
   "display_name": "Python 3 (ipykernel)",
   "language": "python",
   "name": "python3"
  },
  "language_info": {
   "codemirror_mode": {
    "name": "ipython",
    "version": 3
   },
   "file_extension": ".py",
   "mimetype": "text/x-python",
   "name": "python",
   "nbconvert_exporter": "python",
   "pygments_lexer": "ipython3",
   "version": "3.8.12"
  }
 },
 "nbformat": 4,
 "nbformat_minor": 1
}
