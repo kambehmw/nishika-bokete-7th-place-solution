{
 "cells": [
  {
   "cell_type": "code",
   "execution_count": 1,
   "metadata": {
    "executionInfo": {
     "elapsed": 1038,
     "status": "ok",
     "timestamp": 1664726479749,
     "user": {
      "displayName": "神戸宏之",
      "userId": "10152462779613471234"
     },
     "user_tz": -540
    },
    "id": "o8QW9rL2K1Rm"
   },
   "outputs": [],
   "source": [
    "import numpy as np\n",
    "import pandas as pd\n",
    "from sklearn.metrics import log_loss\n",
    "from scipy.special import softmax"
   ]
  },
  {
   "cell_type": "code",
   "execution_count": 2,
   "metadata": {
    "executionInfo": {
     "elapsed": 6643,
     "status": "ok",
     "timestamp": 1664726486389,
     "user": {
      "displayName": "神戸宏之",
      "userId": "10152462779613471234"
     },
     "user_tz": -540
    },
    "id": "cWgCtwt8LIx4"
   },
   "outputs": [],
   "source": [
    "df1 = pd.read_csv(\"../ex36_resnet152_bert-base-japanese-v2_7folds/oof_df.csv\").sort_values(\"id\").reset_index(drop=True) # cv: 0.6426\n",
    "df2 = pd.read_csv(\"../ex37_resnet152_bert-base-japanese-whole-word-masking_7folds/oof_df.csv\").sort_values(\"id\").reset_index(drop=True) # cv: 0.6454\n",
    "df3 = pd.read_csv(\"../ex39_swin_b_bert-base-japanese-v2_7folds/oof_df.csv\").sort_values(\"id\").reset_index(drop=True) # cv: 0.6407\n",
    "df4 = pd.read_csv(\"../ex40_vit_b_16_bert-base-japanese-v2_7folds/oof_df.csv\").sort_values(\"id\").reset_index(drop=True) # cv: 0.6514\n",
    "df5 = pd.read_csv(\"../ex43_swin_b_sentence-bert-base-ja-mean-tokens-v2_7folds/oof_df.csv\").sort_values(\"id\").reset_index(drop=True) # cv: 0.6458\n",
    "df6 = pd.read_csv(\"../ex42_efficientnet_v2_m_bert-base-japanese-v2_7folds/oof_df.csv\").sort_values(\"id\").reset_index(drop=True) # cv: 0.6439\n",
    "df7 = pd.read_csv(\"../ex45_swin_b_bert-base-japanese-char-v2/oof_df.csv\").sort_values(\"id\").reset_index(drop=True) # cv: 0.6485\n",
    "df8 = pd.read_csv(\"../ex48_clip_vit_base_patch32_bert-base-japanese-v2_7folds/oof_df.csv\").sort_values(\"id\").reset_index(drop=True) # cv: 0.6454\n",
    "df9 = pd.read_csv(\"../ex50_clip-vit-b-32-japanese-v1_sentence-bert-base-ja-mean-tokens-v2_7folds/oof_df.csv\").sort_values(\"id\").reset_index(drop=True) # cv: \n",
    "df10 = pd.read_csv(\"../ex54_swin_b_t5-base-japanese-v1.1_7folds/oof_df.csv\").sort_values(\"id\").reset_index(drop=True) # cv: 0.6574\n",
    "df11 = pd.read_csv(\"../ex58_swin_b_bert-base-japanese-v2_7folds_pseudo/oof_df.csv\").sort_values(\"id\").reset_index(drop=True) # cv: 0.6503"
   ]
  },
  {
   "cell_type": "code",
   "execution_count": 3,
   "metadata": {
    "colab": {
     "base_uri": "https://localhost:8080/",
     "height": 206
    },
    "executionInfo": {
     "elapsed": 13,
     "status": "ok",
     "timestamp": 1664726487654,
     "user": {
      "displayName": "神戸宏之",
      "userId": "10152462779613471234"
     },
     "user_tz": -540
    },
    "id": "k3I4j3IGLVK1",
    "outputId": "0879a66d-7427-4b61-dea9-9bc657c6daa6"
   },
   "outputs": [
    {
     "data": {
      "text/html": [
       "<div>\n",
       "<style scoped>\n",
       "    .dataframe tbody tr th:only-of-type {\n",
       "        vertical-align: middle;\n",
       "    }\n",
       "\n",
       "    .dataframe tbody tr th {\n",
       "        vertical-align: top;\n",
       "    }\n",
       "\n",
       "    .dataframe thead th {\n",
       "        text-align: right;\n",
       "    }\n",
       "</style>\n",
       "<table border=\"1\" class=\"dataframe\">\n",
       "  <thead>\n",
       "    <tr style=\"text-align: right;\">\n",
       "      <th></th>\n",
       "      <th>id</th>\n",
       "      <th>odai_photo_file_name</th>\n",
       "      <th>text</th>\n",
       "      <th>is_laugh</th>\n",
       "      <th>img_path</th>\n",
       "      <th>fold</th>\n",
       "      <th>pred_0</th>\n",
       "      <th>pred_1</th>\n",
       "    </tr>\n",
       "  </thead>\n",
       "  <tbody>\n",
       "    <tr>\n",
       "      <th>0</th>\n",
       "      <td>005fsegda</td>\n",
       "      <td>gfwqgf5nr3.jpg</td>\n",
       "      <td>結婚式の馴れ初めムービーが太陽系の形成から始まった</td>\n",
       "      <td>1</td>\n",
       "      <td>../bokete/train/gfwqgf5nr3.jpg</td>\n",
       "      <td>5</td>\n",
       "      <td>-0.11835</td>\n",
       "      <td>-0.19350</td>\n",
       "    </tr>\n",
       "    <tr>\n",
       "      <th>1</th>\n",
       "      <td>00bxdcozk</td>\n",
       "      <td>xjdx5fqpmv.jpg</td>\n",
       "      <td>ホームレスだったが『なかなかの雰囲気をかもし出してる』という理由で料理長になれた。</td>\n",
       "      <td>0</td>\n",
       "      <td>../bokete/train/xjdx5fqpmv.jpg</td>\n",
       "      <td>3</td>\n",
       "      <td>-0.72900</td>\n",
       "      <td>0.27170</td>\n",
       "    </tr>\n",
       "    <tr>\n",
       "      <th>2</th>\n",
       "      <td>00mpolpif</td>\n",
       "      <td>f09vzizm3w.jpg</td>\n",
       "      <td>見慣れない旅人が、たくさんの壺を割りながら近づいてくる</td>\n",
       "      <td>1</td>\n",
       "      <td>../bokete/train/f09vzizm3w.jpg</td>\n",
       "      <td>0</td>\n",
       "      <td>-0.56050</td>\n",
       "      <td>0.99270</td>\n",
       "    </tr>\n",
       "    <tr>\n",
       "      <th>3</th>\n",
       "      <td>00xnsh2c6</td>\n",
       "      <td>5eutjv8q0f.jpg</td>\n",
       "      <td>「押すなよ、ほんっとうに押すなよ！押すなって！押すなああぁぁぁ………」</td>\n",
       "      <td>0</td>\n",
       "      <td>../bokete/train/5eutjv8q0f.jpg</td>\n",
       "      <td>1</td>\n",
       "      <td>-0.06744</td>\n",
       "      <td>0.05313</td>\n",
       "    </tr>\n",
       "    <tr>\n",
       "      <th>4</th>\n",
       "      <td>01fvui4tv</td>\n",
       "      <td>udoedxn436.jpg</td>\n",
       "      <td>あまり頭の良くない息子が唯一合格した私立地獄谷デーモン幼稚園の送迎バス。</td>\n",
       "      <td>1</td>\n",
       "      <td>../bokete/train/udoedxn436.jpg</td>\n",
       "      <td>1</td>\n",
       "      <td>-0.44400</td>\n",
       "      <td>0.47920</td>\n",
       "    </tr>\n",
       "  </tbody>\n",
       "</table>\n",
       "</div>"
      ],
      "text/plain": [
       "          id odai_photo_file_name                                       text  \\\n",
       "0  005fsegda       gfwqgf5nr3.jpg                  結婚式の馴れ初めムービーが太陽系の形成から始まった   \n",
       "1  00bxdcozk       xjdx5fqpmv.jpg  ホームレスだったが『なかなかの雰囲気をかもし出してる』という理由で料理長になれた。   \n",
       "2  00mpolpif       f09vzizm3w.jpg                見慣れない旅人が、たくさんの壺を割りながら近づいてくる   \n",
       "3  00xnsh2c6       5eutjv8q0f.jpg        「押すなよ、ほんっとうに押すなよ！押すなって！押すなああぁぁぁ………」   \n",
       "4  01fvui4tv       udoedxn436.jpg       あまり頭の良くない息子が唯一合格した私立地獄谷デーモン幼稚園の送迎バス。   \n",
       "\n",
       "   is_laugh                        img_path  fold   pred_0   pred_1  \n",
       "0         1  ../bokete/train/gfwqgf5nr3.jpg     5 -0.11835 -0.19350  \n",
       "1         0  ../bokete/train/xjdx5fqpmv.jpg     3 -0.72900  0.27170  \n",
       "2         1  ../bokete/train/f09vzizm3w.jpg     0 -0.56050  0.99270  \n",
       "3         0  ../bokete/train/5eutjv8q0f.jpg     1 -0.06744  0.05313  \n",
       "4         1  ../bokete/train/udoedxn436.jpg     1 -0.44400  0.47920  "
      ]
     },
     "execution_count": 3,
     "metadata": {},
     "output_type": "execute_result"
    }
   ],
   "source": [
    "df1.head()"
   ]
  },
  {
   "cell_type": "code",
   "execution_count": 4,
   "metadata": {
    "colab": {
     "base_uri": "https://localhost:8080/",
     "height": 206
    },
    "executionInfo": {
     "elapsed": 9,
     "status": "ok",
     "timestamp": 1664726487655,
     "user": {
      "displayName": "神戸宏之",
      "userId": "10152462779613471234"
     },
     "user_tz": -540
    },
    "id": "UyHYW7U-LYtq",
    "outputId": "0bf461b7-8e1f-4753-ae36-ba8021c15342"
   },
   "outputs": [
    {
     "data": {
      "text/html": [
       "<div>\n",
       "<style scoped>\n",
       "    .dataframe tbody tr th:only-of-type {\n",
       "        vertical-align: middle;\n",
       "    }\n",
       "\n",
       "    .dataframe tbody tr th {\n",
       "        vertical-align: top;\n",
       "    }\n",
       "\n",
       "    .dataframe thead th {\n",
       "        text-align: right;\n",
       "    }\n",
       "</style>\n",
       "<table border=\"1\" class=\"dataframe\">\n",
       "  <thead>\n",
       "    <tr style=\"text-align: right;\">\n",
       "      <th></th>\n",
       "      <th>id</th>\n",
       "      <th>odai_photo_file_name</th>\n",
       "      <th>text</th>\n",
       "      <th>is_laugh</th>\n",
       "      <th>img_path</th>\n",
       "      <th>fold</th>\n",
       "      <th>pred_0</th>\n",
       "      <th>pred_1</th>\n",
       "    </tr>\n",
       "  </thead>\n",
       "  <tbody>\n",
       "    <tr>\n",
       "      <th>0</th>\n",
       "      <td>005fsegda</td>\n",
       "      <td>gfwqgf5nr3.jpg</td>\n",
       "      <td>結婚式の馴れ初めムービーが太陽系の形成から始まった</td>\n",
       "      <td>1</td>\n",
       "      <td>../bokete/train/gfwqgf5nr3.jpg</td>\n",
       "      <td>5</td>\n",
       "      <td>0.3154</td>\n",
       "      <td>0.09950</td>\n",
       "    </tr>\n",
       "    <tr>\n",
       "      <th>1</th>\n",
       "      <td>00bxdcozk</td>\n",
       "      <td>xjdx5fqpmv.jpg</td>\n",
       "      <td>ホームレスだったが『なかなかの雰囲気をかもし出してる』という理由で料理長になれた。</td>\n",
       "      <td>0</td>\n",
       "      <td>../bokete/train/xjdx5fqpmv.jpg</td>\n",
       "      <td>3</td>\n",
       "      <td>-0.4443</td>\n",
       "      <td>0.61330</td>\n",
       "    </tr>\n",
       "    <tr>\n",
       "      <th>2</th>\n",
       "      <td>00mpolpif</td>\n",
       "      <td>f09vzizm3w.jpg</td>\n",
       "      <td>見慣れない旅人が、たくさんの壺を割りながら近づいてくる</td>\n",
       "      <td>1</td>\n",
       "      <td>../bokete/train/f09vzizm3w.jpg</td>\n",
       "      <td>0</td>\n",
       "      <td>-0.1813</td>\n",
       "      <td>0.51070</td>\n",
       "    </tr>\n",
       "    <tr>\n",
       "      <th>3</th>\n",
       "      <td>00xnsh2c6</td>\n",
       "      <td>5eutjv8q0f.jpg</td>\n",
       "      <td>「押すなよ、ほんっとうに押すなよ！押すなって！押すなああぁぁぁ………」</td>\n",
       "      <td>0</td>\n",
       "      <td>../bokete/train/5eutjv8q0f.jpg</td>\n",
       "      <td>1</td>\n",
       "      <td>0.1859</td>\n",
       "      <td>0.04147</td>\n",
       "    </tr>\n",
       "    <tr>\n",
       "      <th>4</th>\n",
       "      <td>01fvui4tv</td>\n",
       "      <td>udoedxn436.jpg</td>\n",
       "      <td>あまり頭の良くない息子が唯一合格した私立地獄谷デーモン幼稚園の送迎バス。</td>\n",
       "      <td>1</td>\n",
       "      <td>../bokete/train/udoedxn436.jpg</td>\n",
       "      <td>1</td>\n",
       "      <td>-0.3896</td>\n",
       "      <td>0.74170</td>\n",
       "    </tr>\n",
       "  </tbody>\n",
       "</table>\n",
       "</div>"
      ],
      "text/plain": [
       "          id odai_photo_file_name                                       text  \\\n",
       "0  005fsegda       gfwqgf5nr3.jpg                  結婚式の馴れ初めムービーが太陽系の形成から始まった   \n",
       "1  00bxdcozk       xjdx5fqpmv.jpg  ホームレスだったが『なかなかの雰囲気をかもし出してる』という理由で料理長になれた。   \n",
       "2  00mpolpif       f09vzizm3w.jpg                見慣れない旅人が、たくさんの壺を割りながら近づいてくる   \n",
       "3  00xnsh2c6       5eutjv8q0f.jpg        「押すなよ、ほんっとうに押すなよ！押すなって！押すなああぁぁぁ………」   \n",
       "4  01fvui4tv       udoedxn436.jpg       あまり頭の良くない息子が唯一合格した私立地獄谷デーモン幼稚園の送迎バス。   \n",
       "\n",
       "   is_laugh                        img_path  fold  pred_0   pred_1  \n",
       "0         1  ../bokete/train/gfwqgf5nr3.jpg     5  0.3154  0.09950  \n",
       "1         0  ../bokete/train/xjdx5fqpmv.jpg     3 -0.4443  0.61330  \n",
       "2         1  ../bokete/train/f09vzizm3w.jpg     0 -0.1813  0.51070  \n",
       "3         0  ../bokete/train/5eutjv8q0f.jpg     1  0.1859  0.04147  \n",
       "4         1  ../bokete/train/udoedxn436.jpg     1 -0.3896  0.74170  "
      ]
     },
     "execution_count": 4,
     "metadata": {},
     "output_type": "execute_result"
    }
   ],
   "source": [
    "df2.head()"
   ]
  },
  {
   "cell_type": "code",
   "execution_count": 6,
   "metadata": {},
   "outputs": [
    {
     "data": {
      "text/html": [
       "<div>\n",
       "<style scoped>\n",
       "    .dataframe tbody tr th:only-of-type {\n",
       "        vertical-align: middle;\n",
       "    }\n",
       "\n",
       "    .dataframe tbody tr th {\n",
       "        vertical-align: top;\n",
       "    }\n",
       "\n",
       "    .dataframe thead th {\n",
       "        text-align: right;\n",
       "    }\n",
       "</style>\n",
       "<table border=\"1\" class=\"dataframe\">\n",
       "  <thead>\n",
       "    <tr style=\"text-align: right;\">\n",
       "      <th></th>\n",
       "      <th>id</th>\n",
       "      <th>odai_photo_file_name</th>\n",
       "      <th>text</th>\n",
       "      <th>is_laugh</th>\n",
       "      <th>img_path</th>\n",
       "      <th>fold</th>\n",
       "      <th>pred_0</th>\n",
       "      <th>pred_1</th>\n",
       "    </tr>\n",
       "  </thead>\n",
       "  <tbody>\n",
       "    <tr>\n",
       "      <th>0</th>\n",
       "      <td>005fsegda</td>\n",
       "      <td>gfwqgf5nr3.jpg</td>\n",
       "      <td>結婚式の馴れ初めムービーが太陽系の形成から始まった</td>\n",
       "      <td>1</td>\n",
       "      <td>../bokete/train/gfwqgf5nr3.jpg</td>\n",
       "      <td>5</td>\n",
       "      <td>0.440860</td>\n",
       "      <td>0.564339</td>\n",
       "    </tr>\n",
       "    <tr>\n",
       "      <th>1</th>\n",
       "      <td>00bxdcozk</td>\n",
       "      <td>xjdx5fqpmv.jpg</td>\n",
       "      <td>ホームレスだったが『なかなかの雰囲気をかもし出してる』という理由で料理長になれた。</td>\n",
       "      <td>0</td>\n",
       "      <td>../bokete/train/xjdx5fqpmv.jpg</td>\n",
       "      <td>3</td>\n",
       "      <td>0.185504</td>\n",
       "      <td>0.796292</td>\n",
       "    </tr>\n",
       "    <tr>\n",
       "      <th>2</th>\n",
       "      <td>00mpolpif</td>\n",
       "      <td>f09vzizm3w.jpg</td>\n",
       "      <td>見慣れない旅人が、たくさんの壺を割りながら近づいてくる</td>\n",
       "      <td>1</td>\n",
       "      <td>../bokete/train/f09vzizm3w.jpg</td>\n",
       "      <td>0</td>\n",
       "      <td>0.171200</td>\n",
       "      <td>0.821044</td>\n",
       "    </tr>\n",
       "    <tr>\n",
       "      <th>3</th>\n",
       "      <td>00xnsh2c6</td>\n",
       "      <td>5eutjv8q0f.jpg</td>\n",
       "      <td>「押すなよ、ほんっとうに押すなよ！押すなって！押すなああぁぁぁ………」</td>\n",
       "      <td>0</td>\n",
       "      <td>../bokete/train/5eutjv8q0f.jpg</td>\n",
       "      <td>1</td>\n",
       "      <td>0.454351</td>\n",
       "      <td>0.545346</td>\n",
       "    </tr>\n",
       "    <tr>\n",
       "      <th>4</th>\n",
       "      <td>01fvui4tv</td>\n",
       "      <td>udoedxn436.jpg</td>\n",
       "      <td>あまり頭の良くない息子が唯一合格した私立地獄谷デーモン幼稚園の送迎バス。</td>\n",
       "      <td>1</td>\n",
       "      <td>../bokete/train/udoedxn436.jpg</td>\n",
       "      <td>1</td>\n",
       "      <td>0.289071</td>\n",
       "      <td>0.720171</td>\n",
       "    </tr>\n",
       "  </tbody>\n",
       "</table>\n",
       "</div>"
      ],
      "text/plain": [
       "          id odai_photo_file_name                                       text  \\\n",
       "0  005fsegda       gfwqgf5nr3.jpg                  結婚式の馴れ初めムービーが太陽系の形成から始まった   \n",
       "1  00bxdcozk       xjdx5fqpmv.jpg  ホームレスだったが『なかなかの雰囲気をかもし出してる』という理由で料理長になれた。   \n",
       "2  00mpolpif       f09vzizm3w.jpg                見慣れない旅人が、たくさんの壺を割りながら近づいてくる   \n",
       "3  00xnsh2c6       5eutjv8q0f.jpg        「押すなよ、ほんっとうに押すなよ！押すなって！押すなああぁぁぁ………」   \n",
       "4  01fvui4tv       udoedxn436.jpg       あまり頭の良くない息子が唯一合格した私立地獄谷デーモン幼稚園の送迎バス。   \n",
       "\n",
       "   is_laugh                        img_path  fold    pred_0    pred_1  \n",
       "0         1  ../bokete/train/gfwqgf5nr3.jpg     5  0.440860  0.564339  \n",
       "1         0  ../bokete/train/xjdx5fqpmv.jpg     3  0.185504  0.796292  \n",
       "2         1  ../bokete/train/f09vzizm3w.jpg     0  0.171200  0.821044  \n",
       "3         0  ../bokete/train/5eutjv8q0f.jpg     1  0.454351  0.545346  \n",
       "4         1  ../bokete/train/udoedxn436.jpg     1  0.289071  0.720171  "
      ]
     },
     "execution_count": 6,
     "metadata": {},
     "output_type": "execute_result"
    }
   ],
   "source": [
    "df11.head()"
   ]
  },
  {
   "cell_type": "code",
   "execution_count": 24,
   "metadata": {
    "executionInfo": {
     "elapsed": 520,
     "status": "ok",
     "timestamp": 1664726495166,
     "user": {
      "displayName": "神戸宏之",
      "userId": "10152462779613471234"
     },
     "user_tz": -540
    },
    "id": "yEShBxNyfpnu"
   },
   "outputs": [],
   "source": [
    "preds1 = softmax(df1[[\"pred_0\", \"pred_1\"]].values, axis=-1)\n",
    "preds2 = softmax(df2[[\"pred_0\", \"pred_1\"]].values, axis=-1)\n",
    "preds3 = softmax(df3[[\"pred_0\", \"pred_1\"]].values, axis=-1)\n",
    "preds4 = softmax(df4[[\"pred_0\", \"pred_1\"]].values, axis=-1)\n",
    "preds5 = softmax(df5[[\"pred_0\", \"pred_1\"]].values, axis=-1)\n",
    "preds6 = softmax(df6[[\"pred_0\", \"pred_1\"]].values, axis=-1)\n",
    "preds7 = softmax(df7[[\"pred_0\", \"pred_1\"]].values, axis=-1)\n",
    "preds8 = softmax(df8[[\"pred_0\", \"pred_1\"]].values, axis=-1)\n",
    "preds9 = softmax(df9[[\"pred_0\", \"pred_1\"]].values, axis=-1)\n",
    "preds10 = softmax(df10[[\"pred_0\", \"pred_1\"]].values, axis=-1)\n",
    "preds11 = df11[[\"pred_0\", \"pred_1\"]].values"
   ]
  },
  {
   "cell_type": "code",
   "execution_count": 25,
   "metadata": {
    "colab": {
     "base_uri": "https://localhost:8080/"
    },
    "executionInfo": {
     "elapsed": 5,
     "status": "ok",
     "timestamp": 1664726506485,
     "user": {
      "displayName": "神戸宏之",
      "userId": "10152462779613471234"
     },
     "user_tz": -540
    },
    "id": "p8qJBes-LZPU",
    "outputId": "30ee91b1-ffaa-4b99-e571-634f3c8afc4d"
   },
   "outputs": [
    {
     "name": "stdout",
     "output_type": "stream",
     "text": [
      "[1.00047264 0.99834514 0.9992949 ]\n"
     ]
    },
    {
     "data": {
      "text/plain": [
       "0.6345164261333307"
      ]
     },
     "execution_count": 25,
     "metadata": {},
     "output_type": "execute_result"
    }
   ],
   "source": [
    "val_preds = (preds1 * 0.5 + preds2 * 0.5 + preds3 * 0.5 + preds4 * 0.5 + preds5 * 0.5 + preds6 * 0.5 + preds7 * 0.5 + preds8 * 0.5 + preds9 * 0.5 + preds10 * 0.5 + preds11 * 0.5) / 5.5\n",
    "\n",
    "print(np.sum(val_preds[:3], axis=-1))\n",
    "log_loss(df1[\"is_laugh\"].values, val_preds)"
   ]
  },
  {
   "cell_type": "code",
   "execution_count": 26,
   "metadata": {
    "colab": {
     "base_uri": "https://localhost:8080/"
    },
    "executionInfo": {
     "elapsed": 573,
     "status": "ok",
     "timestamp": 1664726525426,
     "user": {
      "displayName": "神戸宏之",
      "userId": "10152462779613471234"
     },
     "user_tz": -540
    },
    "id": "FyztF6dkURN4",
    "outputId": "0d1eb202-18f3-4470-ad29-8f622b3f9e4c"
   },
   "outputs": [
    {
     "name": "stdout",
     "output_type": "stream",
     "text": [
      "result:\n",
      "[0.1563895842636911, 0.12886919692284887, 0.1272798953877381, -0.10879046484437135, 0.11290727962681868, 0.143645226925178, 0.09298438929818265, 0.10802328164805639, 0.05511603300194007, -0.1260642854238916, 0.2885010553284587]\n",
      "0.6321426662110509\n"
     ]
    }
   ],
   "source": [
    "from scipy.optimize import minimize\n",
    "\n",
    "def optimize_weights(x):\n",
    "    val_preds = (preds1 * x[0] + preds2 * x[1] + preds3 * x[2] + preds4 * x[3] + preds5 * x[4] + preds6 * x[5] + preds7 * x[6] + preds8 * x[7] + preds9 * x[8] + preds10 * x[9] + preds11 * x[10]) / sum(x)\n",
    "\n",
    "    score = log_loss(df1[\"is_laugh\"].values, val_preds)\n",
    "    return score\n",
    "\n",
    "n = 11\n",
    "weight_init = [1 / n for _ in range(n)]\n",
    "result = minimize(optimize_weights,\n",
    "                  weight_init,\n",
    "                  method=\"Nelder-Mead\",\n",
    "                  # bounds=bounds, \n",
    "                  # options={\"maxiter\": 1}\n",
    "                 )\n",
    "print(f'result:')\n",
    "print(\"[\" + \", \".join(map(str, result.x)) + \"]\")\n",
    "\n",
    "x = result.x\n",
    "\n",
    "val_preds = (preds1 * x[0] + preds2 * x[1] + preds3 * x[2] + preds4 * x[3] + preds5 * x[4] + preds6 * x[5] + preds7 * x[6] + preds8 * x[7] + preds9 * x[8] + preds10 * x[9] + preds11 * x[10]) / sum(x)\n",
    "\n",
    "score = log_loss(df1[\"is_laugh\"].values, val_preds)\n",
    "print(score)"
   ]
  },
  {
   "cell_type": "code",
   "execution_count": 27,
   "metadata": {},
   "outputs": [
    {
     "data": {
      "text/plain": [
       "array([1.00153231, 0.99463486, 0.99771402])"
      ]
     },
     "execution_count": 27,
     "metadata": {},
     "output_type": "execute_result"
    }
   ],
   "source": [
    "np.sum(val_preds[:3], axis=-1)"
   ]
  },
  {
   "cell_type": "code",
   "execution_count": 28,
   "metadata": {},
   "outputs": [],
   "source": [
    "df = df1.copy()\n",
    "df[[\"pred_0\", \"pred_1\"]] = val_preds\n",
    "df.to_csv(\"oof_df_ensemble.csv\", index=False)"
   ]
  },
  {
   "cell_type": "code",
   "execution_count": 29,
   "metadata": {},
   "outputs": [
    {
     "name": "stdout",
     "output_type": "stream",
     "text": [
      "result:\n",
      "[0.9848579021928361, 1.0411295557791602, 0.90462887642677, 1.0204667352782182, 1.0064829842787586, 1.0148418685731189, 1.0026343665382378, 1.0044571788841692, 1.0235264911438613, 1.0164582996478846]\n",
      "[[0.53673643]\n",
      " [0.71932269]\n",
      " [0.77694697]\n",
      " [0.52775769]\n",
      " [0.72037448]]\n",
      "[[0.46326357 0.53673643]\n",
      " [0.28067731 0.71932269]\n",
      " [0.22305303 0.77694697]\n",
      " [0.47224231 0.52775769]\n",
      " [0.27962552 0.72037448]]\n",
      "0.6317221680728933\n"
     ]
    }
   ],
   "source": [
    "from scipy.optimize import minimize\n",
    "\n",
    "weights = x\n",
    "\n",
    "preds_eval = (preds1 * weights[0] + preds2 * weights[1] + preds3 * weights[2] + preds4 * weights[3]\n",
    "             + preds5 * weights[4] + preds6 * weights[5] + preds7 * weights[6] + preds8 * weights[7] \n",
    "             + preds9 * weights[8] + preds10 * weights[9] + preds11 * weights[10] \n",
    "        )\n",
    "\n",
    "\n",
    "\n",
    "def optimize_weights(x):\n",
    "    preds = preds_eval.copy()[:, 1].reshape(-1, 1)\n",
    "    \n",
    "    preds[preds < 0.1] = preds[preds < 0.1] * x[0]\n",
    "    preds[(0.1 <= preds) & (preds < 0.2)] = preds[(0.1 <= preds) & (preds < 0.2)] * x[1]\n",
    "    preds[(0.2 <= preds) & (preds < 0.3)] = preds[(0.2 <= preds) & (preds < 0.3)] * x[2]\n",
    "    preds[(0.3 <= preds) & (preds < 0.4)] = preds[(0.3 <= preds) & (preds < 0.4)] * x[3]\n",
    "    preds[(0.4 <= preds) & (preds < 0.5)] = preds[(0.4 <= preds) & (preds < 0.5)] * x[4]\n",
    "    preds[(0.5 <= preds) & (preds < 0.6)] = preds[(0.5 <= preds) & (preds < 0.6)] * x[5]\n",
    "    preds[(0.6 <= preds) & (preds < 0.7)] = preds[(0.6 <= preds) & (preds < 0.7)] * x[6]\n",
    "    preds[(0.7 <= preds) & (preds < 0.8)] = preds[(0.7 <= preds) & (preds < 0.8)] * x[7]\n",
    "    preds[(0.8 <= preds) & (preds < 0.9)] = preds[(0.8 <= preds) & (preds < 0.9)] * x[8]\n",
    "    preds[(0.9 <= preds) & (preds <= 1.0)] = preds[(0.9 <= preds) & (preds <= 1.0)] * x[9]\n",
    "    \n",
    "    predictions = np.zeros((preds.shape[0], 2))\n",
    "    predictions[:, 1] = preds.reshape(-1)\n",
    "    predictions[:, 0] = 1.0 - preds.reshape(-1)\n",
    "    \n",
    "    score = log_loss(df1[\"is_laugh\"].values, predictions)\n",
    "    return score\n",
    "\n",
    "weight_init = [1.0 for _ in range(10)]\n",
    "result = minimize(optimize_weights,\n",
    "                  weight_init,\n",
    "                  method=\"Nelder-Mead\",\n",
    "                  # bounds=bounds, \n",
    "                  # options={\"maxiter\": 1}\n",
    "                 )\n",
    "print(f'result:')\n",
    "print(\"[\" + \", \".join(map(str, result.x)) + \"]\")\n",
    "\n",
    "weights1 = result.x\n",
    "preds = preds_eval.copy()[:, 1].reshape(-1, 1)\n",
    "\n",
    "preds[preds < 0.1] = preds[preds < 0.1] * x[0]\n",
    "preds[(0.1 <= preds) & (preds < 0.2)] = preds[(0.1 <= preds) & (preds < 0.2)] * weights1[1]\n",
    "preds[(0.2 <= preds) & (preds < 0.3)] = preds[(0.2 <= preds) & (preds < 0.3)] * weights1[2]\n",
    "preds[(0.3 <= preds) & (preds < 0.4)] = preds[(0.3 <= preds) & (preds < 0.4)] * weights1[3]\n",
    "preds[(0.4 <= preds) & (preds < 0.5)] = preds[(0.4 <= preds) & (preds < 0.5)] * weights1[4]\n",
    "preds[(0.5 <= preds) & (preds < 0.6)] = preds[(0.5 <= preds) & (preds < 0.6)] * weights1[5]\n",
    "preds[(0.6 <= preds) & (preds < 0.7)] = preds[(0.6 <= preds) & (preds < 0.7)] * weights1[6]\n",
    "preds[(0.7 <= preds) & (preds < 0.8)] = preds[(0.7 <= preds) & (preds < 0.8)] * weights1[7]\n",
    "preds[(0.8 <= preds) & (preds < 0.9)] = preds[(0.8 <= preds) & (preds < 0.9)] * weights1[8]\n",
    "preds[(0.9 <= preds) & (preds <= 1.0)] = preds[(0.9 <= preds) & (preds <= 1.0)] * weights1[9]\n",
    "# preds[5.0 < preds] = 5.0\n",
    "print(preds[:5])\n",
    "\n",
    "predictions = np.zeros((preds.shape[0], 2))\n",
    "predictions[:, 1] = preds.reshape(-1)\n",
    "predictions[:, 0] = 1.0 - preds.reshape(-1)\n",
    "print(predictions[:5])\n",
    "score = log_loss(df1[\"is_laugh\"].values, predictions)\n",
    "print(score)"
   ]
  },
  {
   "cell_type": "code",
   "execution_count": 30,
   "metadata": {},
   "outputs": [
    {
     "name": "stdout",
     "output_type": "stream",
     "text": [
      "result:\n",
      "[0.9858744789933889, 0.9817776955478545, 0.9805695980605817, 0.989455121077101, 0.9386140478074081, 0.9151708933522276, 1.0362921550568833, 1.0127993568465383, 1.0132827077943012, 0.9979148122678851, 1.0238874919396057, 1.0171857941320943, 1.0121586481239686, 1.0047646776091868, 1.0076915449289685, 1.0087142225126318, 1.0059523211549983, 1.042905591461368, 1.0716767586319502, 1.0124334920145723]\n",
      "[[0.54152054]\n",
      " [0.72163892]\n",
      " [0.78023979]\n",
      " [0.53246177]\n",
      " [0.72269409]]\n",
      "[[0.45847946 0.54152054]\n",
      " [0.27836108 0.72163892]\n",
      " [0.21976021 0.78023979]\n",
      " [0.46753823 0.53246177]\n",
      " [0.27730591 0.72269409]]\n",
      "0.6316053687912104\n"
     ]
    }
   ],
   "source": [
    "def optimize_weights(x):\n",
    "    preds = preds_eval.copy()[:, 1].reshape(-1, 1)\n",
    "    \n",
    "    preds[preds < 0.05] = preds[preds < 0.05] * x[0]\n",
    "    preds[(0.05 <= preds) & (preds < 0.1)] = preds[(0.05 <= preds) & (preds < 0.1)] * x[1]\n",
    "    preds[(0.1 <= preds) & (preds < 0.15)] = preds[(0.1 <= preds) & (preds < 0.15)] * x[2]\n",
    "    preds[(0.15 <= preds) & (preds < 0.2)] = preds[(0.15 <= preds) & (preds < 0.2)] * x[3]\n",
    "    preds[(0.2 <= preds) & (preds < 0.25)] = preds[(0.2 <= preds) & (preds < 0.25)] * x[4]\n",
    "    preds[(0.25 <= preds) & (preds < 0.3)] = preds[(0.25 <= preds) & (preds < 0.3)] * x[5]\n",
    "    preds[(0.3 <= preds) & (preds < 0.35)] = preds[(0.3 <= preds) & (preds < 0.35)] * x[6]\n",
    "    preds[(0.35 <= preds) & (preds < 0.4)] = preds[(0.35 <= preds) & (preds < 0.4)] * x[7]\n",
    "    preds[(0.4 <= preds) & (preds < 0.45)] = preds[(0.4 <= preds) & (preds < 0.45)] * x[8]\n",
    "    preds[(0.45 <= preds) & (preds <= 0.5)] = preds[(0.45 <= preds) & (preds <= 0.5)] * x[9]\n",
    "    preds[(0.5 <= preds) & (preds <= 0.55)] = preds[(0.5 <= preds) & (preds <= 0.55)] * x[10]\n",
    "    preds[(0.55 <= preds) & (preds <= 0.6)] = preds[(0.55 <= preds) & (preds <= 0.6)] * x[11]\n",
    "    preds[(0.6 <= preds) & (preds <= 0.65)] = preds[(0.6 <= preds) & (preds <= 0.65)] * x[12]\n",
    "    preds[(0.65 <= preds) & (preds <= 0.7)] = preds[(0.65 <= preds) & (preds <= 0.7)] * x[13]\n",
    "    preds[(0.7 <= preds) & (preds <= 0.75)] = preds[(0.7 <= preds) & (preds <= 0.75)] * x[14]\n",
    "    preds[(0.75 <= preds) & (preds <= 0.8)] = preds[(0.75 <= preds) & (preds <= 0.8)] * x[15]\n",
    "    preds[(0.8 <= preds) & (preds <= 0.85)] = preds[(0.8 <= preds) & (preds <= 0.85)] * x[16]\n",
    "    preds[(0.85 <= preds) & (preds <= 0.9)] = preds[(0.85 <= preds) & (preds <= 0.9)] * x[17]\n",
    "    preds[(0.9 <= preds) & (preds <= 0.95)] = preds[(0.9 <= preds) & (preds <= 0.95)] * x[18]\n",
    "    preds[(0.95 <= preds) & (preds <= 1.0)] = preds[(0.95 <= preds) & (preds <= 1.0)] * x[19]\n",
    "    \n",
    "    predictions = np.zeros((preds.shape[0], 2))\n",
    "    predictions[:, 1] = preds.reshape(-1)\n",
    "    predictions[:, 0] = 1.0 - preds.reshape(-1)\n",
    "    \n",
    "    score = log_loss(df1[\"is_laugh\"].values, predictions)\n",
    "    return score\n",
    "\n",
    "weight_init = [1.0 for _ in range(20)]\n",
    "result = minimize(optimize_weights,\n",
    "                  weight_init,\n",
    "                  method=\"Nelder-Mead\",\n",
    "                  # bounds=bounds, \n",
    "                  # options={\"maxiter\": 1}\n",
    "                 )\n",
    "print(f'result:')\n",
    "print(\"[\" + \", \".join(map(str, result.x)) + \"]\")\n",
    "\n",
    "weights2 = result.x\n",
    "preds = preds_eval.copy()[:, 1].reshape(-1, 1)\n",
    "\n",
    "preds[preds < 0.05] = preds[preds < 0.05] * weights2[0]\n",
    "preds[(0.05 <= preds) & (preds < 0.1)] = preds[(0.05 <= preds) & (preds < 0.1)] * weights2[1]\n",
    "preds[(0.1 <= preds) & (preds < 0.15)] = preds[(0.1 <= preds) & (preds < 0.15)] * weights2[2]\n",
    "preds[(0.15 <= preds) & (preds < 0.2)] = preds[(0.15 <= preds) & (preds < 0.2)] * weights2[3]\n",
    "preds[(0.2 <= preds) & (preds < 0.25)] = preds[(0.2 <= preds) & (preds < 0.25)] * weights2[4]\n",
    "preds[(0.25 <= preds) & (preds < 0.3)] = preds[(0.25 <= preds) & (preds < 0.3)] * weights2[5]\n",
    "preds[(0.3 <= preds) & (preds < 0.35)] = preds[(0.3 <= preds) & (preds < 0.35)] * weights2[6]\n",
    "preds[(0.35 <= preds) & (preds < 0.4)] = preds[(0.35 <= preds) & (preds < 0.4)] * weights2[7]\n",
    "preds[(0.4 <= preds) & (preds < 0.45)] = preds[(0.4 <= preds) & (preds < 0.45)] * weights2[8]\n",
    "preds[(0.45 <= preds) & (preds <= 0.5)] = preds[(0.45 <= preds) & (preds <= 0.5)] * weights2[9]\n",
    "preds[(0.5 <= preds) & (preds <= 0.55)] = preds[(0.5 <= preds) & (preds <= 0.55)] * weights2[10]\n",
    "preds[(0.55 <= preds) & (preds <= 0.6)] = preds[(0.55 <= preds) & (preds <= 0.6)] * weights2[11]\n",
    "preds[(0.6 <= preds) & (preds <= 0.65)] = preds[(0.6 <= preds) & (preds <= 0.65)] * weights2[12]\n",
    "preds[(0.65 <= preds) & (preds <= 0.7)] = preds[(0.65 <= preds) & (preds <= 0.7)] * weights2[13]\n",
    "preds[(0.7 <= preds) & (preds <= 0.75)] = preds[(0.7 <= preds) & (preds <= 0.75)] * weights2[14]\n",
    "preds[(0.75 <= preds) & (preds <= 0.8)] = preds[(0.75 <= preds) & (preds <= 0.8)] * weights2[15]\n",
    "preds[(0.8 <= preds) & (preds <= 0.85)] = preds[(0.8 <= preds) & (preds <= 0.85)] * weights2[16]\n",
    "preds[(0.85 <= preds) & (preds <= 0.9)] = preds[(0.85 <= preds) & (preds <= 0.9)] * weights2[17]\n",
    "preds[(0.9 <= preds) & (preds <= 0.95)] = preds[(0.9 <= preds) & (preds <= 0.95)] * weights2[18]\n",
    "preds[(0.95 <= preds) & (preds <= 1.0)] = preds[(0.95 <= preds) & (preds <= 1.0)] * weights2[19]\n",
    "# preds[5.0 < preds] = 5.0\n",
    "print(preds[:5])\n",
    "\n",
    "predictions = np.zeros((preds.shape[0], 2))\n",
    "predictions[:, 1] = preds.reshape(-1)\n",
    "predictions[:, 0] = 1.0 - preds.reshape(-1)\n",
    "print(predictions[:5])\n",
    "score = log_loss(df1[\"is_laugh\"].values, predictions)\n",
    "print(score)"
   ]
  },
  {
   "cell_type": "code",
   "execution_count": 31,
   "metadata": {
    "executionInfo": {
     "elapsed": 4072,
     "status": "ok",
     "timestamp": 1664726560259,
     "user": {
      "displayName": "神戸宏之",
      "userId": "10152462779613471234"
     },
     "user_tz": -540
    },
    "id": "TKcDZuIDS3wz"
   },
   "outputs": [],
   "source": [
    "sub1 = pd.read_csv(\"../ex36_resnet152_bert-base-japanese-v2_7folds/submission.csv\")\n",
    "sub2 = pd.read_csv(\"../ex37_resnet152_bert-base-japanese-whole-word-masking_7folds/submission.csv\")\n",
    "sub3 = pd.read_csv(\"../ex39_swin_b_bert-base-japanese-v2_7folds/submission.csv\")\n",
    "sub4 = pd.read_csv(\"../ex40_vit_b_16_bert-base-japanese-v2_7folds/submission.csv\")\n",
    "sub5 = pd.read_csv(\"../ex43_swin_b_sentence-bert-base-ja-mean-tokens-v2_7folds/submission.csv\")\n",
    "sub6 = pd.read_csv(\"../ex42_efficientnet_v2_m_bert-base-japanese-v2_7folds/submission.csv\")\n",
    "sub7 = pd.read_csv(\"../ex45_swin_b_bert-base-japanese-char-v2/submission.csv\")\n",
    "sub8 = pd.read_csv(\"../ex48_clip_vit_base_patch32_bert-base-japanese-v2_7folds/submission.csv\")\n",
    "sub9 = pd.read_csv(\"../ex50_clip-vit-b-32-japanese-v1_sentence-bert-base-ja-mean-tokens-v2_7folds/submission.csv\")\n",
    "sub10 = pd.read_csv(\"../ex54_swin_b_t5-base-japanese-v1.1_7folds/submission.csv\")\n",
    "sub11 = pd.read_csv(\"../ex58_swin_b_bert-base-japanese-v2_7folds_pseudo/submission.csv\")"
   ]
  },
  {
   "cell_type": "code",
   "execution_count": 32,
   "metadata": {
    "colab": {
     "base_uri": "https://localhost:8080/",
     "height": 206
    },
    "executionInfo": {
     "elapsed": 31,
     "status": "ok",
     "timestamp": 1664725681155,
     "user": {
      "displayName": "神戸宏之",
      "userId": "10152462779613471234"
     },
     "user_tz": -540
    },
    "id": "pTU39gi9Tpk7",
    "outputId": "4355003b-5f5a-4e37-fde9-bf3bbae23141"
   },
   "outputs": [
    {
     "data": {
      "text/html": [
       "<div>\n",
       "<style scoped>\n",
       "    .dataframe tbody tr th:only-of-type {\n",
       "        vertical-align: middle;\n",
       "    }\n",
       "\n",
       "    .dataframe tbody tr th {\n",
       "        vertical-align: top;\n",
       "    }\n",
       "\n",
       "    .dataframe thead th {\n",
       "        text-align: right;\n",
       "    }\n",
       "</style>\n",
       "<table border=\"1\" class=\"dataframe\">\n",
       "  <thead>\n",
       "    <tr style=\"text-align: right;\">\n",
       "      <th></th>\n",
       "      <th>id</th>\n",
       "      <th>is_laugh</th>\n",
       "    </tr>\n",
       "  </thead>\n",
       "  <tbody>\n",
       "    <tr>\n",
       "      <th>0</th>\n",
       "      <td>rfdjcfsqq</td>\n",
       "      <td>0.474152</td>\n",
       "    </tr>\n",
       "    <tr>\n",
       "      <th>1</th>\n",
       "      <td>tsgqmfpef</td>\n",
       "      <td>0.380052</td>\n",
       "    </tr>\n",
       "    <tr>\n",
       "      <th>2</th>\n",
       "      <td>owjcthkz2</td>\n",
       "      <td>0.299579</td>\n",
       "    </tr>\n",
       "    <tr>\n",
       "      <th>3</th>\n",
       "      <td>rvgaocjyy</td>\n",
       "      <td>0.333452</td>\n",
       "    </tr>\n",
       "    <tr>\n",
       "      <th>4</th>\n",
       "      <td>uxtwu5i69</td>\n",
       "      <td>0.810307</td>\n",
       "    </tr>\n",
       "  </tbody>\n",
       "</table>\n",
       "</div>"
      ],
      "text/plain": [
       "          id  is_laugh\n",
       "0  rfdjcfsqq  0.474152\n",
       "1  tsgqmfpef  0.380052\n",
       "2  owjcthkz2  0.299579\n",
       "3  rvgaocjyy  0.333452\n",
       "4  uxtwu5i69  0.810307"
      ]
     },
     "execution_count": 32,
     "metadata": {},
     "output_type": "execute_result"
    }
   ],
   "source": [
    "sub1.head()"
   ]
  },
  {
   "cell_type": "code",
   "execution_count": 33,
   "metadata": {},
   "outputs": [
    {
     "data": {
      "text/html": [
       "<div>\n",
       "<style scoped>\n",
       "    .dataframe tbody tr th:only-of-type {\n",
       "        vertical-align: middle;\n",
       "    }\n",
       "\n",
       "    .dataframe tbody tr th {\n",
       "        vertical-align: top;\n",
       "    }\n",
       "\n",
       "    .dataframe thead th {\n",
       "        text-align: right;\n",
       "    }\n",
       "</style>\n",
       "<table border=\"1\" class=\"dataframe\">\n",
       "  <thead>\n",
       "    <tr style=\"text-align: right;\">\n",
       "      <th></th>\n",
       "      <th>id</th>\n",
       "      <th>is_laugh</th>\n",
       "    </tr>\n",
       "  </thead>\n",
       "  <tbody>\n",
       "    <tr>\n",
       "      <th>0</th>\n",
       "      <td>rfdjcfsqq</td>\n",
       "      <td>0.481526</td>\n",
       "    </tr>\n",
       "    <tr>\n",
       "      <th>1</th>\n",
       "      <td>tsgqmfpef</td>\n",
       "      <td>0.382368</td>\n",
       "    </tr>\n",
       "    <tr>\n",
       "      <th>2</th>\n",
       "      <td>owjcthkz2</td>\n",
       "      <td>0.366095</td>\n",
       "    </tr>\n",
       "    <tr>\n",
       "      <th>3</th>\n",
       "      <td>rvgaocjyy</td>\n",
       "      <td>0.330248</td>\n",
       "    </tr>\n",
       "    <tr>\n",
       "      <th>4</th>\n",
       "      <td>uxtwu5i69</td>\n",
       "      <td>0.817949</td>\n",
       "    </tr>\n",
       "  </tbody>\n",
       "</table>\n",
       "</div>"
      ],
      "text/plain": [
       "          id  is_laugh\n",
       "0  rfdjcfsqq  0.481526\n",
       "1  tsgqmfpef  0.382368\n",
       "2  owjcthkz2  0.366095\n",
       "3  rvgaocjyy  0.330248\n",
       "4  uxtwu5i69  0.817949"
      ]
     },
     "execution_count": 33,
     "metadata": {},
     "output_type": "execute_result"
    }
   ],
   "source": [
    "sub2.head()"
   ]
  },
  {
   "cell_type": "code",
   "execution_count": 34,
   "metadata": {},
   "outputs": [],
   "source": [
    "def postprocess(preds, x):\n",
    "    preds[preds < 0.05] = preds[preds < 0.05] * x[0]\n",
    "    preds[(0.05 <= preds) & (preds < 0.1)] = preds[(0.05 <= preds) & (preds < 0.1)] * x[1]\n",
    "    preds[(0.1 <= preds) & (preds < 0.15)] = preds[(0.1 <= preds) & (preds < 0.15)] * x[2]\n",
    "    preds[(0.15 <= preds) & (preds < 0.2)] = preds[(0.15 <= preds) & (preds < 0.2)] * x[3]\n",
    "    preds[(0.2 <= preds) & (preds < 0.25)] = preds[(0.2 <= preds) & (preds < 0.25)] * x[4]\n",
    "    preds[(0.25 <= preds) & (preds < 0.3)] = preds[(0.25 <= preds) & (preds < 0.3)] * x[5]\n",
    "    preds[(0.3 <= preds) & (preds < 0.35)] = preds[(0.3 <= preds) & (preds < 0.35)] * x[6]\n",
    "    preds[(0.35 <= preds) & (preds < 0.4)] = preds[(0.35 <= preds) & (preds < 0.4)] * x[7]\n",
    "    preds[(0.4 <= preds) & (preds < 0.45)] = preds[(0.4 <= preds) & (preds < 0.45)] * x[8]\n",
    "    preds[(0.45 <= preds) & (preds <= 0.5)] = preds[(0.45 <= preds) & (preds <= 0.5)] * x[9]\n",
    "    preds[(0.5 <= preds) & (preds <= 0.55)] = preds[(0.5 <= preds) & (preds <= 0.55)] * x[10]\n",
    "    preds[(0.55 <= preds) & (preds <= 0.6)] = preds[(0.55 <= preds) & (preds <= 0.6)] * x[11]\n",
    "    preds[(0.6 <= preds) & (preds <= 0.65)] = preds[(0.6 <= preds) & (preds <= 0.65)] * x[12]\n",
    "    preds[(0.65 <= preds) & (preds <= 0.7)] = preds[(0.65 <= preds) & (preds <= 0.7)] * x[13]\n",
    "    preds[(0.7 <= preds) & (preds <= 0.75)] = preds[(0.7 <= preds) & (preds <= 0.75)] * x[14]\n",
    "    preds[(0.75 <= preds) & (preds <= 0.8)] = preds[(0.75 <= preds) & (preds <= 0.8)] * x[15]\n",
    "    preds[(0.8 <= preds) & (preds <= 0.85)] = preds[(0.8 <= preds) & (preds <= 0.85)] * x[16]\n",
    "    preds[(0.85 <= preds) & (preds <= 0.9)] = preds[(0.85 <= preds) & (preds <= 0.9)] * x[17]\n",
    "    preds[(0.9 <= preds) & (preds <= 0.95)] = preds[(0.9 <= preds) & (preds <= 0.95)] * x[18]\n",
    "    preds[(0.95 <= preds) & (preds <= 1.0)] = preds[(0.95 <= preds) & (preds <= 1.0)] * x[19]\n",
    "    \n",
    "    return preds"
   ]
  },
  {
   "cell_type": "code",
   "execution_count": 35,
   "metadata": {
    "executionInfo": {
     "elapsed": 418,
     "status": "ok",
     "timestamp": 1664726592134,
     "user": {
      "displayName": "神戸宏之",
      "userId": "10152462779613471234"
     },
     "user_tz": -540
    },
    "id": "PiJzOaz2TVg5"
   },
   "outputs": [],
   "source": [
    "sub = sub1.copy()\n",
    "preds = (\n",
    "    (sub1[\"is_laugh\"] * x[0] \n",
    "    + sub2[\"is_laugh\"] * x[1]\n",
    "    + sub3[\"is_laugh\"] * x[2] \n",
    "    + sub4[\"is_laugh\"] * x[3]\n",
    "    + sub5[\"is_laugh\"] * x[4]\n",
    "    + sub6[\"is_laugh\"] * x[5]\n",
    "    + sub7[\"is_laugh\"] * x[6]\n",
    "    + sub8[\"is_laugh\"] * x[7]\n",
    "    + sub9[\"is_laugh\"] * x[8]\n",
    "    + sub10[\"is_laugh\"] * x[9]\n",
    "    + sub11[\"is_laugh\"] * x[10]\n",
    "    ) / sum(x)\n",
    "    )\n",
    "preds = postprocess(preds, weights2)\n",
    "sub[\"is_laugh\"] = preds\n",
    "sub.to_csv(\"submission.csv\", index=False)"
   ]
  },
  {
   "cell_type": "code",
   "execution_count": 12,
   "metadata": {
    "executionInfo": {
     "elapsed": 3,
     "status": "ok",
     "timestamp": 1664726592593,
     "user": {
      "displayName": "神戸宏之",
      "userId": "10152462779613471234"
     },
     "user_tz": -540
    },
    "id": "zjI8JISRT8Q9"
   },
   "outputs": [],
   "source": [
    "# sub = sub1.copy()\n",
    "# sub[\"is_laugh\"] = (\n",
    "#     sub1[\"is_laugh\"] * 0.5\n",
    "#     + sub2[\"is_laugh\"] * 0.5\n",
    "#     + sub3[\"is_laugh\"] * 0.5 \n",
    "#     + sub4[\"is_laugh\"] * 0.5\n",
    "#     + sub5[\"is_laugh\"] * 0.5\n",
    "#     + sub6[\"is_laugh\"] * 0.5\n",
    "#     + sub7[\"is_laugh\"] * 0.5\n",
    "#     ) / (0.5 * 7)\n",
    "# sub.to_csv(\"submission_avg.csv\", index=False)"
   ]
  },
  {
   "cell_type": "code",
   "execution_count": null,
   "metadata": {
    "id": "Ltu30NrCLnoC"
   },
   "outputs": [],
   "source": []
  }
 ],
 "metadata": {
  "colab": {
   "authorship_tag": "ABX9TyNaZliB95O5bj4e08ItWPbN",
   "collapsed_sections": [],
   "provenance": []
  },
  "kernelspec": {
   "display_name": "Python 3 (ipykernel)",
   "language": "python",
   "name": "python3"
  },
  "language_info": {
   "codemirror_mode": {
    "name": "ipython",
    "version": 3
   },
   "file_extension": ".py",
   "mimetype": "text/x-python",
   "name": "python",
   "nbconvert_exporter": "python",
   "pygments_lexer": "ipython3",
   "version": "3.8.12"
  }
 },
 "nbformat": 4,
 "nbformat_minor": 1
}
